{
 "cells": [
  {
   "cell_type": "markdown",
   "id": "6d6fd87e-da51-44de-a183-79dca9103634",
   "metadata": {},
   "source": [
    "## TITLE\n",
    "\n",
    "hello world"
   ]
  },
  {
   "cell_type": "code",
   "execution_count": null,
   "id": "f388b2a9-9bf7-4e28-968e-11b190070c05",
   "metadata": {},
   "outputs": [],
   "source": []
  }
 ],
 "metadata": {
  "kernelspec": {
   "display_name": "Python 3 (ipykernel)",
   "language": "python",
   "name": "python3"
  },
  "language_info": {
   "codemirror_mode": {
    "name": "ipython",
    "version": 3
   },
   "file_extension": ".py",
   "mimetype": "text/x-python",
   "name": "python",
   "nbconvert_exporter": "python",
   "pygments_lexer": "ipython3",
   "version": "3.11.5"
  }
 },
 "nbformat": 4,
 "nbformat_minor": 5
}
